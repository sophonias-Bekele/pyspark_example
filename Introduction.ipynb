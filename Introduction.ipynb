{
 "cells": [
  {
   "cell_type": "code",
   "execution_count": 3,
   "id": "1b2b8079",
   "metadata": {},
   "outputs": [],
   "source": [
    "from pyspark.sql import SparkSession\n",
    "\n",
    "spark = SparkSession.builder.getOrCreate()"
   ]
  },
  {
   "cell_type": "code",
   "execution_count": 8,
   "id": "1c70b69f",
   "metadata": {},
   "outputs": [],
   "source": [
    "from datetime import datetime, date\n",
    "import pandas as pd\n",
    "from pyspark.sql import Row"
   ]
  },
  {
   "cell_type": "markdown",
   "id": "43a81c3e",
   "metadata": {},
   "source": [
    "### Create a PySpark DataFrame from a list of rows"
   ]
  },
  {
   "cell_type": "code",
   "execution_count": 9,
   "id": "1e7d8fdc",
   "metadata": {},
   "outputs": [
    {
     "data": {
      "text/plain": [
       "DataFrame[a: bigint, b: bigint, c: string, d: date, e: timestamp]"
      ]
     },
     "execution_count": 9,
     "metadata": {},
     "output_type": "execute_result"
    }
   ],
   "source": [
    "df = spark.createDataFrame([\n",
    "    Row(a=1, b=2, c='string1', d=date(2000,1,1), e=datetime(2000, 1,1,12,0)),\n",
    "    Row(a=2, b=3, c='string2', d=date(2000,2,1), e=datetime(2000, 1,2,12,0)),\n",
    "    Row(a=4, b=5, c='string3', d=date(2000,3,1), e=datetime(2000, 1,3,12,0))\n",
    "])\n",
    "df"
   ]
  },
  {
   "cell_type": "markdown",
   "id": "e633b5e6",
   "metadata": {},
   "source": [
    "### Create a PySpark DataFrame with an explicit schema"
   ]
  },
  {
   "cell_type": "code",
   "execution_count": 14,
   "id": "926bca3c",
   "metadata": {},
   "outputs": [
    {
     "data": {
      "text/plain": [
       "DataFrame[a: bigint, b: double, c: string, d: date, e: timestamp]"
      ]
     },
     "execution_count": 14,
     "metadata": {},
     "output_type": "execute_result"
    }
   ],
   "source": [
    "explicit_df = spark.createDataFrame([\n",
    "    (1, 2., 'string1', date(2000,1,1), datetime(2000, 1,1,12,0)),\n",
    "    (2, 3., 'string2', date(2000,2,1), datetime(2000, 1,2,12,0)),\n",
    "    (3, 5., 'string3', date(2000,3,1), datetime(2000, 1,3,12,0))\n",
    "], schema = 'a long, b double, c string, d date, e timestamp')\n",
    "explicit_df"
   ]
  },
  {
   "cell_type": "markdown",
   "id": "670aeab8",
   "metadata": {},
   "source": [
    "### Create a PySpark DataFrame from a pandas DataFrame"
   ]
  },
  {
   "cell_type": "code",
   "execution_count": 17,
   "id": "b530d7bb",
   "metadata": {},
   "outputs": [
    {
     "name": "stderr",
     "output_type": "stream",
     "text": [
      "/home/ictpuser/anaconda3/envs/py39/lib/python3.9/site-packages/pyspark/sql/pandas/conversion.py:474: FutureWarning: iteritems is deprecated and will be removed in a future version. Use .items instead.\n",
      "  for column, series in pdf.iteritems():\n",
      "/home/ictpuser/anaconda3/envs/py39/lib/python3.9/site-packages/pyspark/sql/pandas/conversion.py:486: FutureWarning: iteritems is deprecated and will be removed in a future version. Use .items instead.\n",
      "  for column, series in pdf.iteritems():\n"
     ]
    },
    {
     "data": {
      "text/plain": [
       "DataFrame[a: bigint, b: double, c: string, d: date, e: timestamp]"
      ]
     },
     "execution_count": 17,
     "metadata": {},
     "output_type": "execute_result"
    }
   ],
   "source": [
    "pandas_df = pd.DataFrame({\n",
    "    'a':[1,2,3],\n",
    "    'b':[2.,3.,5.],\n",
    "    'c':['string1','string2','string3'],\n",
    "    'd':[date(2000,1,1), date(2000,2,1), date(2000,3,1)],\n",
    "    'e':[datetime(2000, 1, 1, 12, 0), datetime(2000, 1, 2, 12, 0), datetime(2000, 1, 3, 12, 0)]\n",
    "})\n",
    "p_df = spark.createDataFrame(pandas_df)\n",
    "p_df"
   ]
  },
  {
   "cell_type": "code",
   "execution_count": 19,
   "id": "799ac5c8",
   "metadata": {},
   "outputs": [
    {
     "name": "stdout",
     "output_type": "stream",
     "text": [
      "+---+---+-------+----------+-------------------+\n",
      "|  a|  b|      c|         d|                  e|\n",
      "+---+---+-------+----------+-------------------+\n",
      "|  1|  2|string1|2000-01-01|2000-01-01 12:00:00|\n",
      "|  2|  3|string2|2000-02-01|2000-01-02 12:00:00|\n",
      "|  4|  5|string3|2000-03-01|2000-01-03 12:00:00|\n",
      "+---+---+-------+----------+-------------------+\n",
      "\n",
      "root\n",
      " |-- a: long (nullable = true)\n",
      " |-- b: long (nullable = true)\n",
      " |-- c: string (nullable = true)\n",
      " |-- d: date (nullable = true)\n",
      " |-- e: timestamp (nullable = true)\n",
      "\n"
     ]
    }
   ],
   "source": [
    "df.show()\n",
    "df.printSchema()"
   ]
  },
  {
   "cell_type": "code",
   "execution_count": 20,
   "id": "54635758",
   "metadata": {},
   "outputs": [
    {
     "name": "stdout",
     "output_type": "stream",
     "text": [
      "+---+---+-------+----------+-------------------+\n",
      "|  a|  b|      c|         d|                  e|\n",
      "+---+---+-------+----------+-------------------+\n",
      "|  1|  2|string1|2000-01-01|2000-01-01 12:00:00|\n",
      "+---+---+-------+----------+-------------------+\n",
      "only showing top 1 row\n",
      "\n"
     ]
    }
   ],
   "source": [
    "df.show(1)"
   ]
  },
  {
   "cell_type": "code",
   "execution_count": null,
   "id": "f30ab804",
   "metadata": {},
   "outputs": [],
   "source": []
  }
 ],
 "metadata": {
  "kernelspec": {
   "display_name": "Python 3",
   "language": "python",
   "name": "python3"
  },
  "language_info": {
   "codemirror_mode": {
    "name": "ipython",
    "version": 3
   },
   "file_extension": ".py",
   "mimetype": "text/x-python",
   "name": "python",
   "nbconvert_exporter": "python",
   "pygments_lexer": "ipython3",
   "version": "3.9.15"
  }
 },
 "nbformat": 4,
 "nbformat_minor": 5
}
