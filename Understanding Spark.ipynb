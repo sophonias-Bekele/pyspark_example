{
 "cells": [
  {
   "cell_type": "markdown",
   "id": "f2a96f0f",
   "metadata": {},
   "source": [
    "#### Understanding Spark\n",
    "\n",
    "Apache spark is open source processing engine in UC Berkely and Spark codebase then donated to the Apache Software Foundation\n",
    "\n",
    "Apache Spark is fast, easy to use framework, that allows you to solve a wide variety of complex data problems\n",
    "    \n",
    "    -semi-structured\n",
    "    -Structured\n",
    "    \n",
    "\n",
    "Apache Spark is open-source powerfull distributed querying and processing engine. It Provides flexibility and extensiblity of MapReduce \n",
    "\n",
    "Apache Spark allows the user to read, transform and aggregate data as well as tran and deploy sophisticated statical models with ease\n",
    "\n",
    "Apache Spark can easily read from HDFS, Apache Cassandra, Apache HBase and S3"
   ]
  },
  {
   "cell_type": "markdown",
   "id": "54e10211",
   "metadata": {},
   "source": [
    "##### Spark Jobs and APIs"
   ]
  },
  {
   "cell_type": "markdown",
   "id": "dd131eef",
   "metadata": {},
   "source": [
    "Any spark application spins off a single driver process (that can contain multiple jobs) on the master node that then directs executor processes(that contain multiple tasks) distributed to a numer of worker nodes\n",
    "\n",
    "A Spark job is associated with a chain of object dependencies organized in a direct acyclic graph (DAG)"
   ]
  },
  {
   "cell_type": "markdown",
   "id": "9062acdc",
   "metadata": {},
   "source": [
    "#### Resilient Distributed Dataset"
   ]
  },
  {
   "cell_type": "markdown",
   "id": "b76cf024",
   "metadata": {},
   "source": [
    "collection of immutable java virtual machine (JVM) objects called Resilient Distributed Datasets (RDDs). RDDs are calculated against cached and stored in-memory. RDDs apply andlog transformations to the data in parallel\n",
    "\n",
    "RDDs have two sets of parallel operations: transformations (which return pointers to new RDDs) and actions (which return values to the driver after running a computation)\n",
    "\n",
    "RDD transformation operations are lazy. they donot compute immediately"
   ]
  },
  {
   "cell_type": "markdown",
   "id": "51ef4258",
   "metadata": {},
   "source": [
    "#### DataFrames"
   ]
  },
  {
   "cell_type": "markdown",
   "id": "f22843a7",
   "metadata": {},
   "source": [
    "DataFrames, like RDDs are immutable collections of data distributed among the nodes in a cluster. However unlike RDDs in DataFrames data is organized into named columns"
   ]
  },
  {
   "cell_type": "markdown",
   "id": "9339e3fc",
   "metadata": {},
   "source": [
    "##### Tungsten phase 2"
   ]
  },
  {
   "cell_type": "markdown",
   "id": "a1eca489",
   "metadata": {},
   "source": [
    "Memory Management and Binary Processing: Leveraging application semantics to manage memory expliitly and eliminate the overhead of the JVM object model and garbage collection\n",
    "\n",
    "Cache-aware computation: Algorithms and data structures to exploit memory hierarchy\n",
    "\n",
    "code generation: using code generation to exploit modern compilers and CPUs\n"
   ]
  },
  {
   "cell_type": "markdown",
   "id": "1a9d846a",
   "metadata": {},
   "source": [
    "##### Structured Streaming"
   ]
  },
  {
   "cell_type": "markdown",
   "id": "f9c8f8ce",
   "metadata": {},
   "source": [
    "issue with streaming late events, partial outputs to the final data sources, state recovery on failure and distributed reads/writes"
   ]
  }
 ],
 "metadata": {
  "kernelspec": {
   "display_name": "Python 3",
   "language": "python",
   "name": "python3"
  },
  "language_info": {
   "codemirror_mode": {
    "name": "ipython",
    "version": 3
   },
   "file_extension": ".py",
   "mimetype": "text/x-python",
   "name": "python",
   "nbconvert_exporter": "python",
   "pygments_lexer": "ipython3",
   "version": "3.9.15"
  }
 },
 "nbformat": 4,
 "nbformat_minor": 5
}
